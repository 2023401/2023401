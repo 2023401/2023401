{
 "cells": [
  {
   "cell_type": "code",
   "execution_count": 1,
   "id": "23b0d263",
   "metadata": {},
   "outputs": [],
   "source": [
    "#Import all library\n",
    "import numpy as np\n",
    "import pandas as pd\n",
    "import matplotlib.pyplot as plt\n",
    "import seaborn as sns\n",
    "from sklearn.preprocessing import LabelEncoder\n"
   ]
  },
  {
   "cell_type": "code",
   "execution_count": 30,
   "id": "15c543f2",
   "metadata": {},
   "outputs": [
    {
     "data": {
      "text/html": [
       "<div>\n",
       "<style scoped>\n",
       "    .dataframe tbody tr th:only-of-type {\n",
       "        vertical-align: middle;\n",
       "    }\n",
       "\n",
       "    .dataframe tbody tr th {\n",
       "        vertical-align: top;\n",
       "    }\n",
       "\n",
       "    .dataframe thead th {\n",
       "        text-align: right;\n",
       "    }\n",
       "</style>\n",
       "<table border=\"1\" class=\"dataframe\">\n",
       "  <thead>\n",
       "    <tr style=\"text-align: right;\">\n",
       "      <th></th>\n",
       "      <th>STATISTIC Label</th>\n",
       "      <th>Year</th>\n",
       "      <th>Single Year of Age</th>\n",
       "      <th>Sex</th>\n",
       "      <th>UNIT</th>\n",
       "      <th>VALUE</th>\n",
       "    </tr>\n",
       "  </thead>\n",
       "  <tbody>\n",
       "    <tr>\n",
       "      <th>0</th>\n",
       "      <td>Population estimates from 1926</td>\n",
       "      <td>1926</td>\n",
       "      <td>All ages</td>\n",
       "      <td>Both sexes</td>\n",
       "      <td>Number</td>\n",
       "      <td>2971992</td>\n",
       "    </tr>\n",
       "    <tr>\n",
       "      <th>1</th>\n",
       "      <td>Population estimates from 1926</td>\n",
       "      <td>1926</td>\n",
       "      <td>All ages</td>\n",
       "      <td>Male</td>\n",
       "      <td>Number</td>\n",
       "      <td>1506889</td>\n",
       "    </tr>\n",
       "    <tr>\n",
       "      <th>2</th>\n",
       "      <td>Population estimates from 1926</td>\n",
       "      <td>1926</td>\n",
       "      <td>All ages</td>\n",
       "      <td>Female</td>\n",
       "      <td>Number</td>\n",
       "      <td>1465103</td>\n",
       "    </tr>\n",
       "    <tr>\n",
       "      <th>3</th>\n",
       "      <td>Population estimates from 1926</td>\n",
       "      <td>1926</td>\n",
       "      <td>Under 1 year</td>\n",
       "      <td>Both sexes</td>\n",
       "      <td>Number</td>\n",
       "      <td>55391</td>\n",
       "    </tr>\n",
       "    <tr>\n",
       "      <th>4</th>\n",
       "      <td>Population estimates from 1926</td>\n",
       "      <td>1926</td>\n",
       "      <td>Under 1 year</td>\n",
       "      <td>Male</td>\n",
       "      <td>Number</td>\n",
       "      <td>28084</td>\n",
       "    </tr>\n",
       "  </tbody>\n",
       "</table>\n",
       "</div>"
      ],
      "text/plain": [
       "                  STATISTIC Label  Year Single Year of Age         Sex  \\\n",
       "0  Population estimates from 1926  1926           All ages  Both sexes   \n",
       "1  Population estimates from 1926  1926           All ages        Male   \n",
       "2  Population estimates from 1926  1926           All ages      Female   \n",
       "3  Population estimates from 1926  1926       Under 1 year  Both sexes   \n",
       "4  Population estimates from 1926  1926       Under 1 year        Male   \n",
       "\n",
       "     UNIT    VALUE  \n",
       "0  Number  2971992  \n",
       "1  Number  1506889  \n",
       "2  Number  1465103  \n",
       "3  Number    55391  \n",
       "4  Number    28084  "
      ]
     },
     "execution_count": 30,
     "metadata": {},
     "output_type": "execute_result"
    }
   ],
   "source": [
    "#Read the adatset\n",
    "df_PE = pd.read_csv('PEA11.20231027T221019.csv')\n",
    "df_PE.head()"
   ]
  },
  {
   "cell_type": "code",
   "execution_count": 31,
   "id": "47e26167",
   "metadata": {},
   "outputs": [
    {
     "name": "stdout",
     "output_type": "stream",
     "text": [
      "<class 'pandas.core.frame.DataFrame'>\n",
      "RangeIndex: 11817 entries, 0 to 11816\n",
      "Data columns (total 6 columns):\n",
      " #   Column              Non-Null Count  Dtype \n",
      "---  ------              --------------  ----- \n",
      " 0   STATISTIC Label     11817 non-null  object\n",
      " 1   Year                11817 non-null  int64 \n",
      " 2   Single Year of Age  11817 non-null  object\n",
      " 3   Sex                 11817 non-null  object\n",
      " 4   UNIT                11817 non-null  object\n",
      " 5   VALUE               11817 non-null  int64 \n",
      "dtypes: int64(2), object(4)\n",
      "memory usage: 554.0+ KB\n"
     ]
    }
   ],
   "source": [
    "#Checking the columns\n",
    "df_PE.info()"
   ]
  },
  {
   "cell_type": "code",
   "execution_count": 32,
   "id": "2de6479d",
   "metadata": {},
   "outputs": [
    {
     "data": {
      "text/plain": [
       "(11817, 6)"
      ]
     },
     "execution_count": 32,
     "metadata": {},
     "output_type": "execute_result"
    }
   ],
   "source": [
    "#Shape of dataset\n",
    "df_PE.shape"
   ]
  },
  {
   "cell_type": "code",
   "execution_count": 33,
   "id": "2b628726",
   "metadata": {},
   "outputs": [
    {
     "data": {
      "text/plain": [
       "STATISTIC Label       0\n",
       "Year                  0\n",
       "Single Year of Age    0\n",
       "Sex                   0\n",
       "UNIT                  0\n",
       "VALUE                 0\n",
       "dtype: int64"
      ]
     },
     "execution_count": 33,
     "metadata": {},
     "output_type": "execute_result"
    }
   ],
   "source": [
    "#Checking the null values\n",
    "df_PE.isnull().sum()"
   ]
  },
  {
   "cell_type": "code",
   "execution_count": 34,
   "id": "f1dbdcb3",
   "metadata": {},
   "outputs": [
    {
     "data": {
      "text/html": [
       "<div>\n",
       "<style scoped>\n",
       "    .dataframe tbody tr th:only-of-type {\n",
       "        vertical-align: middle;\n",
       "    }\n",
       "\n",
       "    .dataframe tbody tr th {\n",
       "        vertical-align: top;\n",
       "    }\n",
       "\n",
       "    .dataframe thead th {\n",
       "        text-align: right;\n",
       "    }\n",
       "</style>\n",
       "<table border=\"1\" class=\"dataframe\">\n",
       "  <thead>\n",
       "    <tr style=\"text-align: right;\">\n",
       "      <th></th>\n",
       "      <th>Year</th>\n",
       "      <th>VALUE</th>\n",
       "    </tr>\n",
       "  </thead>\n",
       "  <tbody>\n",
       "    <tr>\n",
       "      <th>count</th>\n",
       "      <td>11817.000000</td>\n",
       "      <td>1.181700e+04</td>\n",
       "    </tr>\n",
       "    <tr>\n",
       "      <th>mean</th>\n",
       "      <td>1996.410256</td>\n",
       "      <td>5.352461e+04</td>\n",
       "    </tr>\n",
       "    <tr>\n",
       "      <th>std</th>\n",
       "      <td>24.463165</td>\n",
       "      <td>2.867754e+05</td>\n",
       "    </tr>\n",
       "    <tr>\n",
       "      <th>min</th>\n",
       "      <td>1926.000000</td>\n",
       "      <td>6.000000e+00</td>\n",
       "    </tr>\n",
       "    <tr>\n",
       "      <th>25%</th>\n",
       "      <td>1986.000000</td>\n",
       "      <td>1.242700e+04</td>\n",
       "    </tr>\n",
       "    <tr>\n",
       "      <th>50%</th>\n",
       "      <td>2004.000000</td>\n",
       "      <td>2.667500e+04</td>\n",
       "    </tr>\n",
       "    <tr>\n",
       "      <th>75%</th>\n",
       "      <td>2014.000000</td>\n",
       "      <td>3.557700e+04</td>\n",
       "    </tr>\n",
       "    <tr>\n",
       "      <th>max</th>\n",
       "      <td>2023.000000</td>\n",
       "      <td>5.281612e+06</td>\n",
       "    </tr>\n",
       "  </tbody>\n",
       "</table>\n",
       "</div>"
      ],
      "text/plain": [
       "               Year         VALUE\n",
       "count  11817.000000  1.181700e+04\n",
       "mean    1996.410256  5.352461e+04\n",
       "std       24.463165  2.867754e+05\n",
       "min     1926.000000  6.000000e+00\n",
       "25%     1986.000000  1.242700e+04\n",
       "50%     2004.000000  2.667500e+04\n",
       "75%     2014.000000  3.557700e+04\n",
       "max     2023.000000  5.281612e+06"
      ]
     },
     "execution_count": 34,
     "metadata": {},
     "output_type": "execute_result"
    }
   ],
   "source": [
    "#Statistical Description of dataset\n",
    "df_PE.describe()"
   ]
  },
  {
   "cell_type": "code",
   "execution_count": 36,
   "id": "aedc11a3",
   "metadata": {},
   "outputs": [
    {
     "name": "stdout",
     "output_type": "stream",
     "text": [
      "\n",
      "Updated Dataset with 'Age Group' Feature:\n",
      "                      STATISTIC Label  Year Single Year of Age         Sex  \\\n",
      "0      Population estimates from 1926  1926           All ages  Both sexes   \n",
      "1      Population estimates from 1926  1926           All ages        Male   \n",
      "2      Population estimates from 1926  1926           All ages      Female   \n",
      "3      Population estimates from 1926  1926       Under 1 year  Both sexes   \n",
      "4      Population estimates from 1926  1926       Under 1 year        Male   \n",
      "...                               ...   ...                ...         ...   \n",
      "11812  Population estimates from 1926  2023           98 years        Male   \n",
      "11813  Population estimates from 1926  2023           98 years      Female   \n",
      "11814  Population estimates from 1926  2023  99 years and over  Both sexes   \n",
      "11815  Population estimates from 1926  2023  99 years and over        Male   \n",
      "11816  Population estimates from 1926  2023  99 years and over      Female   \n",
      "\n",
      "         UNIT    VALUE     Age Group  \n",
      "0      Number  2971992      All ages  \n",
      "1      Number  1506889      All ages  \n",
      "2      Number  1465103      All ages  \n",
      "3      Number    55391  Under 1 year  \n",
      "4      Number    28084  Under 1 year  \n",
      "...       ...      ...           ...  \n",
      "11812  Number      197      All ages  \n",
      "11813  Number      632      All ages  \n",
      "11814  Number     1600      All ages  \n",
      "11815  Number      352      All ages  \n",
      "11816  Number     1248      All ages  \n",
      "\n",
      "[11817 rows x 7 columns]\n"
     ]
    }
   ],
   "source": [
    "# Creating a new feature 'Age Group'\n",
    "df_PE['Age Group'] = df_PE['Single Year of Age'].apply(lambda x: 'Under 1 year' if x == 'Under 1 year' else 'All ages')\n",
    "\n",
    "# Print updated dataset with new feature\n",
    "print(\"\\nUpdated Dataset with 'Age Group' Feature:\")\n",
    "print(df_PE)\n"
   ]
  },
  {
   "cell_type": "code",
   "execution_count": 37,
   "id": "44a5caf6",
   "metadata": {},
   "outputs": [
    {
     "data": {
      "image/png": "[encoded data removed]",
      "text/plain": [
       "<Figure size 800x600 with 1 Axes>"
      ]
     },
     "metadata": {},
     "output_type": "display_data"
    }
   ],
   "source": [
    "# Population distribution by 'Age Group' and 'Sex'\n",
    "plt.figure(figsize=(8, 6))\n",
    "sns.barplot(x='Age Group', y='VALUE', hue='Sex', data=df_PE)\n",
    "plt.title('Population Distribution by Age Group and Sex')\n",
    "plt.xlabel('Age Group')\n",
    "plt.ylabel('Population')\n",
    "plt.show()"
   ]
  },
  {
   "cell_type": "code",
   "execution_count": 38,
   "id": "eac5f983",
   "metadata": {},
   "outputs": [
    {
     "data": {
      "image/png": "[encoded data removed]",
      "text/plain": [
       "<Figure size 600x600 with 1 Axes>"
      ]
     },
     "metadata": {},
     "output_type": "display_data"
    }
   ],
   "source": [
    "# Population distribution by 'Sex'\n",
    "plt.figure(figsize=(6, 6))\n",
    "sns.barplot(x='Sex', y='VALUE', data=df_PE)\n",
    "plt.title('Population Distribution by Gender')\n",
    "plt.xlabel('Sex')\n",
    "plt.ylabel('Population')\n",
    "plt.show()\n"
   ]
  },
  {
   "cell_type": "code",
   "execution_count": 39,
   "id": "51a21752",
   "metadata": {},
   "outputs": [
    {
     "data": {
      "image/png": "[encoded data removed]",
      "text/plain": [
       "<Figure size 500x500 with 1 Axes>"
      ]
     },
     "metadata": {},
     "output_type": "display_data"
    }
   ],
   "source": [
    "# Extracting male and female population for 'All ages' category\n",
    "male_population = df_PE.loc[(df_PE['Single Year of Age'] == 'All ages') & (df_PE['Sex'] == 'Male'), 'VALUE'].values[0]\n",
    "female_population = df_PE.loc[(df_PE['Single Year of Age'] == 'All ages') & (df_PE['Sex'] == 'Female'), 'VALUE'].values[0]\n",
    "populations = [male_population, female_population]\n",
    "genders = ['Male', 'Female']\n",
    "colors = ['green', 'violet']  # Custom colors for Male and Female \n",
    "\n",
    "#  pie chart \n",
    "plt.figure(figsize=(5, 5))\n",
    "plt.pie(populations, labels=genders, autopct='%1.1f%%', startangle=90, colors=colors)\n",
    "plt.title('Male vs. Female Population')\n",
    "plt.show()"
   ]
  },
  {
   "cell_type": "code",
   "execution_count": 40,
   "id": "277307aa",
   "metadata": {},
   "outputs": [],
   "source": [
    "# Convert categorical columns to numerical using Label Encoding\n",
    "le = LabelEncoder()\n",
    "df_PE['Sex'] = le.fit_transform(df_PE['Sex'])\n",
    "df_PE['STATISTIC Label'] = le.fit_transform(df_PE['STATISTIC Label'])\n",
    "df_PE['Single Year of Age'] = le.fit_transform(df_PE['Single Year of Age'])\n",
    "df_PE['UNIT'] = le.fit_transform(df_PE['UNIT'])"
   ]
  },
  {
   "cell_type": "code",
   "execution_count": 41,
   "id": "2685aeba",
   "metadata": {},
   "outputs": [
    {
     "data": {
      "text/html": [
       "<div>\n",
       "<style scoped>\n",
       "    .dataframe tbody tr th:only-of-type {\n",
       "        vertical-align: middle;\n",
       "    }\n",
       "\n",
       "    .dataframe tbody tr th {\n",
       "        vertical-align: top;\n",
       "    }\n",
       "\n",
       "    .dataframe thead th {\n",
       "        text-align: right;\n",
       "    }\n",
       "</style>\n",
       "<table border=\"1\" class=\"dataframe\">\n",
       "  <thead>\n",
       "    <tr style=\"text-align: right;\">\n",
       "      <th></th>\n",
       "      <th>STATISTIC Label</th>\n",
       "      <th>Year</th>\n",
       "      <th>Single Year of Age</th>\n",
       "      <th>Sex</th>\n",
       "      <th>UNIT</th>\n",
       "      <th>VALUE</th>\n",
       "      <th>Age Group</th>\n",
       "    </tr>\n",
       "  </thead>\n",
       "  <tbody>\n",
       "    <tr>\n",
       "      <th>0</th>\n",
       "      <td>0</td>\n",
       "      <td>1926</td>\n",
       "      <td>99</td>\n",
       "      <td>0</td>\n",
       "      <td>0</td>\n",
       "      <td>2971992</td>\n",
       "      <td>All ages</td>\n",
       "    </tr>\n",
       "    <tr>\n",
       "      <th>1</th>\n",
       "      <td>0</td>\n",
       "      <td>1926</td>\n",
       "      <td>99</td>\n",
       "      <td>2</td>\n",
       "      <td>0</td>\n",
       "      <td>1506889</td>\n",
       "      <td>All ages</td>\n",
       "    </tr>\n",
       "    <tr>\n",
       "      <th>2</th>\n",
       "      <td>0</td>\n",
       "      <td>1926</td>\n",
       "      <td>99</td>\n",
       "      <td>1</td>\n",
       "      <td>0</td>\n",
       "      <td>1465103</td>\n",
       "      <td>All ages</td>\n",
       "    </tr>\n",
       "    <tr>\n",
       "      <th>3</th>\n",
       "      <td>0</td>\n",
       "      <td>1926</td>\n",
       "      <td>100</td>\n",
       "      <td>0</td>\n",
       "      <td>0</td>\n",
       "      <td>55391</td>\n",
       "      <td>Under 1 year</td>\n",
       "    </tr>\n",
       "    <tr>\n",
       "      <th>4</th>\n",
       "      <td>0</td>\n",
       "      <td>1926</td>\n",
       "      <td>100</td>\n",
       "      <td>2</td>\n",
       "      <td>0</td>\n",
       "      <td>28084</td>\n",
       "      <td>Under 1 year</td>\n",
       "    </tr>\n",
       "  </tbody>\n",
       "</table>\n",
       "</div>"
      ],
      "text/plain": [
       "   STATISTIC Label  Year  Single Year of Age  Sex  UNIT    VALUE     Age Group\n",
       "0                0  1926                  99    0     0  2971992      All ages\n",
       "1                0  1926                  99    2     0  1506889      All ages\n",
       "2                0  1926                  99    1     0  1465103      All ages\n",
       "3                0  1926                 100    0     0    55391  Under 1 year\n",
       "4                0  1926                 100    2     0    28084  Under 1 year"
      ]
     },
     "execution_count": 41,
     "metadata": {},
     "output_type": "execute_result"
    }
   ],
   "source": [
    "#First 5 rows of dataset\n",
    "df_PE.head()"
   ]
  },
  {
   "cell_type": "code",
   "execution_count": null,
   "id": "29ffe531",
   "metadata": {},
   "outputs": [],
   "source": []
  },
  {
   "cell_type": "code",
   "execution_count": null,
   "id": "25a33f2b",
   "metadata": {},
   "outputs": [],
   "source": []
  }
 ],
 "metadata": {
  "kernelspec": {
   "display_name": "Python 3 (ipykernel)",
   "language": "python",
   "name": "python3"
  },
  "language_info": {
   "codemirror_mode": {
    "name": "ipython",
    "version": 3
   },
   "file_extension": ".py",
   "mimetype": "text/x-python",
   "name": "python",
   "nbconvert_exporter": "python",
   "pygments_lexer": "ipython3",
   "version": "3.9.13"
  }
 },
 "nbformat": 4,
 "nbformat_minor": 5
}
